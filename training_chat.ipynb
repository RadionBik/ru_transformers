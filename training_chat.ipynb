{
 "cells": [
  {
   "cell_type": "code",
   "execution_count": null,
   "metadata": {},
   "outputs": [],
   "source": [
    "export TRAIN_FILE=training_part.txt\n",
    "export EVAL_FILE=eval_part_5000.txt\n",
    "# export CUDA_VISIBLE_DEVICES=1\n",
    "export MODEL_PATH=/workspace/pelevin_m\n",
    "export BS=16\n",
    "export LR=3e-5\n",
    "export OUTPUT_DIR=trained_chat/pelevin_m"
   ]
  },
  {
   "cell_type": "code",
   "execution_count": null,
   "metadata": {},
   "outputs": [],
   "source": [
    "df -h"
   ]
  },
  {
   "cell_type": "code",
   "execution_count": null,
   "metadata": {},
   "outputs": [],
   "source": [
    "nvidia-smi\n",
    "which nvcc"
   ]
  },
  {
   "cell_type": "code",
   "execution_count": null,
   "metadata": {},
   "outputs": [],
   "source": [
    "python run_lm_finetuning.py \\\n",
    "    --output_dir=$OUTPUT_DIR \\\n",
    "    --model_type=gpt2 \\\n",
    "    --model_name_or_path=$MODEL_PATH \\\n",
    "    --overwrite_output_dir \\\n",
    "    --do_train \\\n",
    "    --train_data_file=$TRAIN_FILE \\\n",
    "    --per_gpu_train_batch_size $BS \\\n",
    "    --per_gpu_eval_batch_size $BS \\\n",
    "    --save_steps=15000 \\\n",
    "    --logging_steps=50 \\\n",
    "    --fp16 \\\n",
    "    --fp16_opt_level O2 \\\n",
    "    --warmup_samples 16000 \\\n",
    "    --learning_rate $LR \\\n",
    "    --tokenizer_class YTEncoder \\\n",
    "    --tokenizer_name bpe/yt.model \\\n",
    "    --do_eval \\\n",
    "    --evaluate_during_training \\\n",
    "    --eval_steps 2000 \\\n",
    "    --eval_data_file=$EVAL_FILE \\\n",
    "    --save_total_limit 20 \\\n",
    "    --num_train_epochs 3 \\\n",
    "    --lr_decay \\\n",
    "#     --gradient_accumulation_steps 8\n",
    "#     --unfreeze_level 0\n",
    "#     --overwrite_output_dir \\\n"
   ]
  },
  {
   "cell_type": "code",
   "execution_count": null,
   "metadata": {},
   "outputs": [],
   "source": []
  }
 ],
 "metadata": {
  "kernelspec": {
   "display_name": "Bash",
   "language": "bash",
   "name": "bash"
  },
  "language_info": {
   "codemirror_mode": "shell",
   "file_extension": ".sh",
   "mimetype": "text/x-sh",
   "name": "bash"
  }
 },
 "nbformat": 4,
 "nbformat_minor": 4
}
