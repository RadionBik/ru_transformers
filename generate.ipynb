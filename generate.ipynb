{
 "cells": [
  {
   "cell_type": "code",
   "execution_count": null,
   "metadata": {},
   "outputs": [],
   "source": [
    "from run_generation import sample_sequence\n",
    "from yt_encoder import YTEncoder\n",
    "from transformers import GPT2LMHeadModel\n",
    "import regex as re\n",
    "import youtokentome as yttm\n",
    "import logging\n",
    "import torch\n",
    "import os\n",
    "\n",
    "logger = logging.getLogger('test_gener')"
   ]
  },
  {
   "cell_type": "code",
   "execution_count": null,
   "metadata": {},
   "outputs": [],
   "source": [
    "from apex import amp"
   ]
  },
  {
   "cell_type": "code",
   "execution_count": null,
   "metadata": {},
   "outputs": [],
   "source": [
    "import torch\n",
    "\n",
    "torch.cuda.is_available()"
   ]
  },
  {
   "cell_type": "code",
   "execution_count": null,
   "metadata": {},
   "outputs": [],
   "source": [
    "model_path = '/workspace/pelevin_m'"
   ]
  },
  {
   "cell_type": "code",
   "execution_count": null,
   "metadata": {},
   "outputs": [],
   "source": [
    "model = GPT2LMHeadModel.from_pretrained(model_path)\n",
    "tokenizer = YTEncoder.from_pretrained(model_path)"
   ]
  },
  {
   "cell_type": "code",
   "execution_count": null,
   "metadata": {},
   "outputs": [],
   "source": [
    "device = 'cuda'\n",
    "model.to(device)\n",
    "model.eval()"
   ]
  },
  {
   "cell_type": "code",
   "execution_count": null,
   "metadata": {},
   "outputs": [],
   "source": [
    "def get_sample(model, prompt, length:int, num_samples:int, allow_linebreak:bool):\n",
    "    logger.info(\"*\" * 200)\n",
    "    logger.info(prompt)\n",
    "   \n",
    "    filter_n = tokenizer.encode('\\n')[-1:]\n",
    "    filter_single = [1] + tokenizer.encode('[')[-1:] + tokenizer.encode('(')[-1:]\n",
    "    filter_single += [] if allow_linebreak else filter_n\n",
    "\n",
    "    context_tokens = tokenizer.encode(prompt)\n",
    "    out = sample_sequence(\n",
    "        model=model,\n",
    "        context=context_tokens,\n",
    "        length=length,\n",
    "        temperature=1,\n",
    "        top_k=0,\n",
    "        top_p=0.9,\n",
    "        device=device,\n",
    "        filter_single=filter_single,\n",
    "        filter_double=filter_n,\n",
    "        num_samples=num_samples,\n",
    "    ).to('cpu')\n",
    "\n",
    "    prompt = tokenizer.decode(context_tokens)\n",
    "    len_prompt = len(prompt)\n",
    "   \n",
    "    replies = [out[item, :].tolist() for item in range(len(out))]\n",
    "    text = [tokenizer.decode(item)[len_prompt:] for item in replies]\n",
    "    reg_text = [re.match(r'[\\w\\W]*[\\.!?]\\n', item) for item in text]\n",
    "    reg_text2 = [re.match(r'[\\w\\W]*[\\.!?]', item) for item in text]\n",
    "    result = [reg_item[0] if reg_item else reg_item2[0] if reg_item2 else item for reg_item, reg_item2, item in zip(reg_text, reg_text2, text)]\n",
    "    logger.info(\"=\" * 200)\n",
    "    logger.info(result)\n",
    "    return result"
   ]
  },
  {
   "cell_type": "code",
   "execution_count": null,
   "metadata": {},
   "outputs": [],
   "source": [
    "get_sample(model, 'хватит нести чушь', 30, 3, False)"
   ]
  },
  {
   "cell_type": "code",
   "execution_count": null,
   "metadata": {},
   "outputs": [],
   "source": []
  }
 ],
 "metadata": {
  "kernelspec": {
   "display_name": "Python 3",
   "language": "python",
   "name": "python3"
  },
  "language_info": {
   "codemirror_mode": {
    "name": "ipython",
    "version": 3
   },
   "file_extension": ".py",
   "mimetype": "text/x-python",
   "name": "python",
   "nbconvert_exporter": "python",
   "pygments_lexer": "ipython3",
   "version": "3.7.6"
  }
 },
 "nbformat": 4,
 "nbformat_minor": 4
}
